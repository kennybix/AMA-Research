{
 "cells": [
  {
   "cell_type": "code",
   "execution_count": 15,
   "metadata": {},
   "outputs": [],
   "source": [
    "import numpy as np\n",
    "import pandas as pd\n",
    "from interpolation_models.core import kriging_ego as KRG\n",
    "from sklearn.metrics import r2_score\n",
    "from smt.surrogate_models import KRG as SMT_KRG\n",
    "\n",
    "data = np.loadtxt(\"concrete_data.txt\")\n",
    "x_data = data[:,:-1]\n",
    "y_data = data[:,-1]\n",
    "\n",
    "# model = KRG.Kriging(x_train,y_train,kernel=\"gaussian\",theta0=[0.5]*8,optimizer=\"nelder-mead-c\")\n",
    "# model.train()\n",
    "# model_y_test = (model.predict(x_test))[0]\n",
    "# R2 = r2_score(y_test, model_y_test)\n",
    "# print(R2)"
   ]
  },
  {
   "cell_type": "code",
   "execution_count": 26,
   "metadata": {},
   "outputs": [],
   "source": [
    "x_train = pd.read_csv(\"Results/P0.5V0.5/optimal_x.csv\",header=None)\n",
    "y_train = pd.read_csv(\"Results/P0.5V0.5/optimal_y.csv\",header=None)\n",
    "x_test = pd.read_csv(\"Results/P0.5V0.5/x_test.csv\",header=None)\n",
    "y_test = pd.read_csv(\"Results/P0.5V0.5/y_test.csv\",header=None)"
   ]
  },
  {
   "cell_type": "code",
   "execution_count": 27,
   "metadata": {},
   "outputs": [
    {
     "name": "stdout",
     "output_type": "stream",
     "text": [
      "___________________________________________________________________________\n",
      "   \n",
      "                                  Kriging\n",
      "___________________________________________________________________________\n",
      "   \n",
      " Problem size\n",
      "   \n",
      "      # training points.        : 410\n",
      "   \n",
      "___________________________________________________________________________\n",
      "   \n",
      " Training\n",
      "   \n",
      "   Training ...\n",
      "Warning: multiple x input features have the same value (at least same row twice).\n",
      "   Training - done. Time (sec):  0.7400181\n",
      "___________________________________________________________________________\n",
      "   \n",
      " Evaluation\n",
      "   \n",
      "      # eval points. : 1030\n",
      "   \n",
      "   Predicting ...\n",
      "   Predicting - done. Time (sec):  0.0787902\n",
      "   \n",
      "   Prediction time/pt. (sec) :  0.0000765\n",
      "   \n",
      "0.8994519793010101\n"
     ]
    }
   ],
   "source": [
    "# matern52 squar_exp\n",
    "smt_model = SMT_KRG(corr=\"abs_exp\")\n",
    "smt_model.set_training_values(np.array(x_train),np.array(y_train))\n",
    "smt_model.train()\n",
    "smt_model_y_test = smt_model.predict_values(np.array(x_data))\n",
    "R2 = r2_score(y_data, smt_model_y_test)\n",
    "print(R2)"
   ]
  },
  {
   "cell_type": "code",
   "execution_count": 28,
   "metadata": {},
   "outputs": [
    {
     "name": "stdout",
     "output_type": "stream",
     "text": [
      "___________________________________________________________________________\n",
      "   \n",
      "                                  Kriging\n",
      "___________________________________________________________________________\n",
      "   \n",
      " Problem size\n",
      "   \n",
      "      # training points.        : 149\n",
      "   \n",
      "___________________________________________________________________________\n",
      "   \n",
      " Training\n",
      "   \n",
      "   Training ...\n",
      "   Training - done. Time (sec):  0.1017268\n",
      "___________________________________________________________________________\n",
      "   \n",
      " Evaluation\n",
      "   \n",
      "      # eval points. : 1030\n",
      "   \n",
      "   Predicting ...\n",
      "   Predicting - done. Time (sec):  0.0129664\n",
      "   \n",
      "   Prediction time/pt. (sec) :  0.0000126\n",
      "   \n",
      "0.8254225566529021\n"
     ]
    }
   ],
   "source": [
    "x_train = pd.read_csv(\"Results/P0.3V0.7/optimal_x.csv\",header=None)\n",
    "y_train = pd.read_csv(\"Results/P0.3V0.7/optimal_y.csv\",header=None)\n",
    "x_test = pd.read_csv(\"Results/P0.3V0.7/x_test.csv\",header=None)\n",
    "y_test = pd.read_csv(\"Results/P0.3V0.7/y_test.csv\",header=None)\n",
    "# matern52 squar_exp\n",
    "smt_model = SMT_KRG(corr=\"abs_exp\")\n",
    "smt_model.set_training_values(np.array(x_train),np.array(y_train))\n",
    "smt_model.train()\n",
    "smt_model_y_test = smt_model.predict_values(np.array(x_data))\n",
    "R2 = r2_score(y_data, smt_model_y_test)\n",
    "print(R2)"
   ]
  },
  {
   "cell_type": "code",
   "execution_count": 29,
   "metadata": {},
   "outputs": [
    {
     "name": "stdout",
     "output_type": "stream",
     "text": [
      "___________________________________________________________________________\n",
      "   \n",
      "                                  Kriging\n",
      "___________________________________________________________________________\n",
      "   \n",
      " Problem size\n",
      "   \n",
      "      # training points.        : 416\n",
      "   \n",
      "___________________________________________________________________________\n",
      "   \n",
      " Training\n",
      "   \n",
      "   Training ...\n",
      "Warning: multiple x input features have the same value (at least same row twice).\n",
      "   Training - done. Time (sec):  0.8200400\n",
      "___________________________________________________________________________\n",
      "   \n",
      " Evaluation\n",
      "   \n",
      "      # eval points. : 1030\n",
      "   \n",
      "   Predicting ...\n",
      "   Predicting - done. Time (sec):  0.1027262\n",
      "   \n",
      "   Prediction time/pt. (sec) :  0.0000997\n",
      "   \n",
      "0.8999796657135228\n"
     ]
    }
   ],
   "source": [
    "x_train = pd.read_csv(\"optimal_x.csv\",header=None)\n",
    "y_train = pd.read_csv(\"optimal_y.csv\",header=None)\n",
    "x_test = pd.read_csv(\"x_test.csv\",header=None)\n",
    "y_test = pd.read_csv(\"y_test.csv\",header=None)\n",
    "# matern52 squar_exp\n",
    "smt_model = SMT_KRG(corr=\"abs_exp\")\n",
    "smt_model.set_training_values(np.array(x_train),np.array(y_train))\n",
    "smt_model.train()\n",
    "smt_model_y_test = smt_model.predict_values(np.array(x_data))\n",
    "R2 = r2_score(y_data, smt_model_y_test)\n",
    "print(R2)"
   ]
  },
  {
   "cell_type": "code",
   "execution_count": null,
   "metadata": {},
   "outputs": [],
   "source": []
  }
 ],
 "metadata": {
  "kernelspec": {
   "display_name": "Python 3",
   "language": "python",
   "name": "python3"
  },
  "language_info": {
   "codemirror_mode": {
    "name": "ipython",
    "version": 3
   },
   "file_extension": ".py",
   "mimetype": "text/x-python",
   "name": "python",
   "nbconvert_exporter": "python",
   "pygments_lexer": "ipython3",
   "version": "3.7.0"
  }
 },
 "nbformat": 4,
 "nbformat_minor": 2
}
